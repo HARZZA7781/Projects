{
 "cells": [
  {
   "cell_type": "code",
   "execution_count": 10,
   "metadata": {},
   "outputs": [],
   "source": [
    "from sklearn import datasets\n",
    "from sklearn.model_selection import train_test_split\n",
    "from sklearn.tree import DecisionTreeClassifier\n",
    "from itertools import combinations\n",
    "import numpy as np\n",
    "from sklearn.metrics import accuracy_score"
   ]
  },
  {
   "cell_type": "code",
   "execution_count": 11,
   "metadata": {},
   "outputs": [],
   "source": [
    "# Load the Iris dataset\n",
    "iris = datasets.load_iris()\n",
    "X = iris.data\n",
    "y = iris.target\n",
    "class_labels = iris.target_names"
   ]
  },
  {
   "cell_type": "code",
   "execution_count": 12,
   "metadata": {},
   "outputs": [],
   "source": [
    "# Get unique class pairs\n",
    "class_pairs = list(combinations(np.unique(y), 2))"
   ]
  },
  {
   "cell_type": "code",
   "execution_count": 13,
   "metadata": {},
   "outputs": [],
   "source": [
    "# Store accuracy results\n",
    "results = {}"
   ]
  },
  {
   "cell_type": "code",
   "execution_count": 14,
   "metadata": {},
   "outputs": [],
   "source": [
    "for (class1, class2) in class_pairs:\n",
    "    # Filter data for the two classes\n",
    "    mask = (y == class1) | (y == class2)\n",
    "    X_pair = X[mask]\n",
    "    y_pair = y[mask]\n",
    "    \n",
    "    # Split into training and test sets\n",
    "    X_train, X_test, y_train, y_test = train_test_split(X_pair, y_pair, test_size=0.3, random_state=42)\n",
    "    \n",
    "    # Train a Decision Tree classifier\n",
    "    clf = DecisionTreeClassifier()\n",
    "    clf.fit(X_train, y_train)\n",
    "    \n",
    "    # Make predictions\n",
    "    y_pred = clf.predict(X_test)\n",
    "    \n",
    "    # Compute accuracy\n",
    "    acc = accuracy_score(y_test, y_pred)\n",
    "    results[f\"{class_labels[class1]} vs {class_labels[class2]}\"] = acc"
   ]
  },
  {
   "cell_type": "code",
   "execution_count": 15,
   "metadata": {},
   "outputs": [
    {
     "name": "stdout",
     "output_type": "stream",
     "text": [
      "Accuracy for setosa vs versicolor: 1.00\n",
      "Accuracy for setosa vs virginica: 1.00\n",
      "Accuracy for versicolor vs virginica: 0.77\n"
     ]
    }
   ],
   "source": [
    "# Display results\n",
    "for pair, acc in results.items():\n",
    "    print(f\"Accuracy for {pair}: {acc:.2f}\")"
   ]
  },
  {
   "cell_type": "code",
   "execution_count": 9,
   "metadata": {},
   "outputs": [
    {
     "name": "stdout",
     "output_type": "stream",
     "text": [
      "Accuracy for Class 0 vs Class 1: 1.00\n",
      "Accuracy for Class 0 vs Class 2: 1.00\n",
      "Accuracy for Class 1 vs Class 2: 0.93\n"
     ]
    }
   ],
   "source": [
    "# Print the results\n",
    "for pair, acc in results.items():\n",
    "    print(f'Accuracy for {pair}: {acc:.2f}')"
   ]
  }
 ],
 "metadata": {
  "kernelspec": {
   "display_name": "Python 3",
   "language": "python",
   "name": "python3"
  },
  "language_info": {
   "codemirror_mode": {
    "name": "ipython",
    "version": 3
   },
   "file_extension": ".py",
   "mimetype": "text/x-python",
   "name": "python",
   "nbconvert_exporter": "python",
   "pygments_lexer": "ipython3",
   "version": "3.12.4"
  }
 },
 "nbformat": 4,
 "nbformat_minor": 2
}
